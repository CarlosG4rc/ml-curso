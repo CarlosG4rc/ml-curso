{
 "cells": [
  {
   "cell_type": "code",
   "execution_count": 1,
   "metadata": {},
   "outputs": [],
   "source": [
    "import pandas as pd\n",
    "import numpy as np\n",
    "import random "
   ]
  },
  {
   "cell_type": "code",
   "execution_count": 2,
   "metadata": {},
   "outputs": [
    {
     "data": {
      "text/plain": [
       "[50494,\n",
       " 99346,\n",
       " 55125,\n",
       " 5306,\n",
       " 33936,\n",
       " 67013,\n",
       " 63691,\n",
       " 53075,\n",
       " 39755,\n",
       " 62468,\n",
       " 46930,\n",
       " 76465,\n",
       " 28631,\n",
       " 66150,\n",
       " 18254,\n",
       " 36941,\n",
       " 18316,\n",
       " 99064,\n",
       " 12429,\n",
       " 81050,\n",
       " 32834,\n",
       " 69804,\n",
       " 92428,\n",
       " 78892,\n",
       " 19262,\n",
       " 40651,\n",
       " 12945,\n",
       " 95660,\n",
       " 9665,\n",
       " 89651,\n",
       " 43279,\n",
       " 61884,\n",
       " 73375,\n",
       " 13199,\n",
       " 46372,\n",
       " 56907,\n",
       " 41444,\n",
       " 80070,\n",
       " 83941,\n",
       " 26801,\n",
       " 72420,\n",
       " 62522,\n",
       " 58024,\n",
       " 68334,\n",
       " 34143,\n",
       " 8163,\n",
       " 71919,\n",
       " 1840,\n",
       " 12225,\n",
       " 94333,\n",
       " 52274,\n",
       " 93094,\n",
       " 87576,\n",
       " 81954,\n",
       " 149,\n",
       " 80202,\n",
       " 64694,\n",
       " 43664,\n",
       " 31969,\n",
       " 95719]"
      ]
     },
     "execution_count": 2,
     "metadata": {},
     "output_type": "execute_result"
    }
   ],
   "source": [
    "random.seed(0)\n",
    "A = (random.sample(range(100000), 60))\n",
    "A"
   ]
  },
  {
   "cell_type": "code",
   "execution_count": 3,
   "metadata": {},
   "outputs": [
    {
     "data": {
      "text/plain": [
       "53312.01666666667"
      ]
     },
     "execution_count": 3,
     "metadata": {},
     "output_type": "execute_result"
    }
   ],
   "source": [
    "mean = np.mean(A) #media\n",
    "mean"
   ]
  },
  {
   "cell_type": "code",
   "execution_count": 5,
   "metadata": {},
   "outputs": [
    {
     "data": {
      "text/plain": [
       "56016.0"
      ]
     },
     "execution_count": 5,
     "metadata": {},
     "output_type": "execute_result"
    }
   ],
   "source": [
    "np.median(A) #mediana"
   ]
  },
  {
   "cell_type": "code",
   "execution_count": 8,
   "metadata": {},
   "outputs": [
    {
     "data": {
      "text/plain": [
       "ModeResult(mode=array([149]), count=array([1]))"
      ]
     },
     "execution_count": 8,
     "metadata": {},
     "output_type": "execute_result"
    }
   ],
   "source": [
    "from scipy import stats #moda\n",
    "stats.mode(A)"
   ]
  },
  {
   "cell_type": "code",
   "execution_count": 10,
   "metadata": {},
   "outputs": [
    {
     "data": {
      "text/plain": [
       "32617.75"
      ]
     },
     "execution_count": 10,
     "metadata": {},
     "output_type": "execute_result"
    }
   ],
   "source": [
    "#percencil 100=p1 0=p0, 0.25 1er cuantil 0.75 3er cuantil\n",
    "np.percentile(A, 25)#return 0.25 percentile, e.g 1er cuantil."
   ]
  },
  {
   "cell_type": "markdown",
   "metadata": {},
   "source": [
    "## Medidas de dispersión"
   ]
  },
  {
   "cell_type": "markdown",
   "metadata": {},
   "source": [
    "La viarianza y desviación típica, nos indica si los valores se desplazan mucho o poco con respecto de la media.\n",
    "\n",
    "La **varianza** es como se aleja cada valor de la media. La varianza eleva los valores al cuadrado... nos introduce en una nueva dimensión... puede no tener sentido.\n",
    "\n",
    "La **desviación típica** es la raíz cuadrada de la varianza. Con la desviación típica volveremos a la dimensión original.\n",
    "\n",
    "**Coeficiente de viariación:** nos mide la viariabilidad relativa ente la desviación típica entre la media."
   ]
  },
  {
   "cell_type": "code",
   "execution_count": 11,
   "metadata": {},
   "outputs": [
    {
     "data": {
      "text/plain": [
       "810711216.7830557"
      ]
     },
     "execution_count": 11,
     "metadata": {},
     "output_type": "execute_result"
    }
   ],
   "source": [
    "np.var(A)#varianza"
   ]
  },
  {
   "cell_type": "code",
   "execution_count": 12,
   "metadata": {},
   "outputs": [
    {
     "data": {
      "text/plain": [
       "28472.991005215023"
      ]
     },
     "execution_count": 12,
     "metadata": {},
     "output_type": "execute_result"
    }
   ],
   "source": [
    "std=np.std(A) #desviación típica\n",
    "std"
   ]
  },
  {
   "cell_type": "code",
   "execution_count": 13,
   "metadata": {},
   "outputs": [
    {
     "data": {
      "text/plain": [
       "53.40820472660482"
      ]
     },
     "execution_count": 13,
     "metadata": {},
     "output_type": "execute_result"
    }
   ],
   "source": [
    "#coeficiente de variación std/mean*100\n",
    "#variabilidad relativa entre la media y la std, si hay mucha variabilidad será grande el coeficiente.\n",
    "std/mean*100"
   ]
  },
  {
   "cell_type": "markdown",
   "metadata": {},
   "source": [
    "## 4 Medidas de asimetría"
   ]
  },
  {
   "cell_type": "markdown",
   "metadata": {},
   "source": [
    "Momento de orden r, respecto a la media El momento de orden r. son los momentos de distribución respecto a la media."
   ]
  },
  {
   "cell_type": "code",
   "execution_count": 14,
   "metadata": {},
   "outputs": [],
   "source": [
    "import scipy.stats as sp # para modelos de asimetría\n",
    "from IPython.display import Image # para incluir imagenes local"
   ]
  },
  {
   "cell_type": "markdown",
   "metadata": {},
   "source": [
    "### Asimetría de Fisher"
   ]
  },
  {
   "cell_type": "markdown",
   "metadata": {},
   "source": [
    "* Si el coeficiente es = 0; significa que vuestra función es perfectamente simétrica, se distribuye igual, por ejemplo la distribución normal. Raro es que salga cero\n",
    "* Si el coeficiente es > 0; significa que cuánto más positivo es este valor más desplazado está la distrbución hacía la izquierda, de modo que tenemos una asimetría positiva, nos queda la media muy por encima de la distribución.\n",
    "* si el coeficiente es < 0; significa que cuánto más negativo es este valor más desplazado está la distribución hacía la derecha, de modo que tenemos una asimetría negativa, nos queda la media muy por debajo de la distribución."
   ]
  },
  {
   "cell_type": "code",
   "execution_count": 15,
   "metadata": {},
   "outputs": [
    {
     "data": {
      "text/plain": [
       "-0.17284864155126514"
      ]
     },
     "execution_count": 15,
     "metadata": {},
     "output_type": "execute_result"
    }
   ],
   "source": [
    "#3rd Moment: Asimetria de Fisher\n",
    "Asimetria = sp.skew(A)\n",
    "Asimetria"
   ]
  },
  {
   "cell_type": "markdown",
   "metadata": {},
   "source": [
    "### Curtosis "
   ]
  },
  {
   "cell_type": "markdown",
   "metadata": {},
   "source": [
    "* = 0 Mesocúrtica Distribución perfecta, asemeja a la distribución normal en forma, no en valores. Está compensado tanto el centro como las colas.\n",
    "* > 0 Leptocútica Distribución donde se le concentran mucho los datos en el valor central, y apenas tiene cola.\n",
    "* < 0 Platicúrtica Distribución donde hay pocos valores que se concentren respecto al valor central (media) y hay muchos que aparecen hacia las colas, se concentran más en los laterales. Existe valor centrl, pero también hay mucha presencia de colas directamente en la distribución de nuestros datos."
   ]
  },
  {
   "cell_type": "code",
   "execution_count": null,
   "metadata": {},
   "outputs": [],
   "source": [
    "#4th Moment: Curtosis\n"
   ]
  }
 ],
 "metadata": {
  "kernelspec": {
   "display_name": "Python 3",
   "language": "python",
   "name": "python3"
  },
  "language_info": {
   "codemirror_mode": {
    "name": "ipython",
    "version": 3
   },
   "file_extension": ".py",
   "mimetype": "text/x-python",
   "name": "python",
   "nbconvert_exporter": "python",
   "pygments_lexer": "ipython3",
   "version": "3.8.3"
  }
 },
 "nbformat": 4,
 "nbformat_minor": 4
}
