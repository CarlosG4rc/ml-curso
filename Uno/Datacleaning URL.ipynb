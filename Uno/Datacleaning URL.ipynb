{
 "cells": [
  {
   "cell_type": "code",
   "execution_count": 4,
   "metadata": {},
   "outputs": [],
   "source": [
    "import pandas as pd"
   ]
  },
  {
   "cell_type": "code",
   "execution_count": 1,
   "metadata": {},
   "outputs": [],
   "source": [
    "medals_url = \"http://winterolympicsmedals.com/medals.csv\""
   ]
  },
  {
   "cell_type": "code",
   "execution_count": 5,
   "metadata": {},
   "outputs": [],
   "source": [
    "medals_data = pd.read_csv(medals_url)"
   ]
  },
  {
   "cell_type": "code",
   "execution_count": 6,
   "metadata": {},
   "outputs": [
    {
     "data": {
      "text/html": [
       "<div>\n",
       "<style scoped>\n",
       "    .dataframe tbody tr th:only-of-type {\n",
       "        vertical-align: middle;\n",
       "    }\n",
       "\n",
       "    .dataframe tbody tr th {\n",
       "        vertical-align: top;\n",
       "    }\n",
       "\n",
       "    .dataframe thead th {\n",
       "        text-align: right;\n",
       "    }\n",
       "</style>\n",
       "<table border=\"1\" class=\"dataframe\">\n",
       "  <thead>\n",
       "    <tr style=\"text-align: right;\">\n",
       "      <th></th>\n",
       "      <th>Year</th>\n",
       "      <th>City</th>\n",
       "      <th>Sport</th>\n",
       "      <th>Discipline</th>\n",
       "      <th>NOC</th>\n",
       "      <th>Event</th>\n",
       "      <th>Event gender</th>\n",
       "      <th>Medal</th>\n",
       "    </tr>\n",
       "  </thead>\n",
       "  <tbody>\n",
       "    <tr>\n",
       "      <th>0</th>\n",
       "      <td>1924</td>\n",
       "      <td>Chamonix</td>\n",
       "      <td>Skating</td>\n",
       "      <td>Figure skating</td>\n",
       "      <td>AUT</td>\n",
       "      <td>individual</td>\n",
       "      <td>M</td>\n",
       "      <td>Silver</td>\n",
       "    </tr>\n",
       "    <tr>\n",
       "      <th>1</th>\n",
       "      <td>1924</td>\n",
       "      <td>Chamonix</td>\n",
       "      <td>Skating</td>\n",
       "      <td>Figure skating</td>\n",
       "      <td>AUT</td>\n",
       "      <td>individual</td>\n",
       "      <td>W</td>\n",
       "      <td>Gold</td>\n",
       "    </tr>\n",
       "    <tr>\n",
       "      <th>2</th>\n",
       "      <td>1924</td>\n",
       "      <td>Chamonix</td>\n",
       "      <td>Skating</td>\n",
       "      <td>Figure skating</td>\n",
       "      <td>AUT</td>\n",
       "      <td>pairs</td>\n",
       "      <td>X</td>\n",
       "      <td>Gold</td>\n",
       "    </tr>\n",
       "    <tr>\n",
       "      <th>3</th>\n",
       "      <td>1924</td>\n",
       "      <td>Chamonix</td>\n",
       "      <td>Bobsleigh</td>\n",
       "      <td>Bobsleigh</td>\n",
       "      <td>BEL</td>\n",
       "      <td>four-man</td>\n",
       "      <td>M</td>\n",
       "      <td>Bronze</td>\n",
       "    </tr>\n",
       "    <tr>\n",
       "      <th>4</th>\n",
       "      <td>1924</td>\n",
       "      <td>Chamonix</td>\n",
       "      <td>Ice Hockey</td>\n",
       "      <td>Ice Hockey</td>\n",
       "      <td>CAN</td>\n",
       "      <td>ice hockey</td>\n",
       "      <td>M</td>\n",
       "      <td>Gold</td>\n",
       "    </tr>\n",
       "  </tbody>\n",
       "</table>\n",
       "</div>"
      ],
      "text/plain": [
       "   Year      City       Sport      Discipline  NOC       Event Event gender  \\\n",
       "0  1924  Chamonix     Skating  Figure skating  AUT  individual            M   \n",
       "1  1924  Chamonix     Skating  Figure skating  AUT  individual            W   \n",
       "2  1924  Chamonix     Skating  Figure skating  AUT       pairs            X   \n",
       "3  1924  Chamonix   Bobsleigh       Bobsleigh  BEL    four-man            M   \n",
       "4  1924  Chamonix  Ice Hockey      Ice Hockey  CAN  ice hockey            M   \n",
       "\n",
       "    Medal  \n",
       "0  Silver  \n",
       "1    Gold  \n",
       "2    Gold  \n",
       "3  Bronze  \n",
       "4    Gold  "
      ]
     },
     "execution_count": 6,
     "metadata": {},
     "output_type": "execute_result"
    }
   ],
   "source": [
    "medals_data.head()"
   ]
  },
  {
   "cell_type": "code",
   "execution_count": 8,
   "metadata": {},
   "outputs": [
    {
     "name": "stdout",
     "output_type": "stream",
     "text": [
      "El estado de la respuesta es 200 \n",
      "El data set tiene 2312 filas y 8 columnas\n",
      "   Year      City       Sport      Discipline  NOC       Event Event gender  \\\n",
      "0  1924  Chamonix     Skating  Figure skating  AUT  individual            M   \n",
      "1  1924  Chamonix     Skating  Figure skating  AUT  individual            W   \n",
      "2  1924  Chamonix     Skating  Figure skating  AUT       pairs            X   \n",
      "3  1924  Chamonix   Bobsleigh       Bobsleigh  BEL    four-man            M   \n",
      "4  1924  Chamonix  Ice Hockey      Ice Hockey  CAN  ice hockey            M   \n",
      "\n",
      "    Medal  \n",
      "0  Silver  \n",
      "1    Gold  \n",
      "2    Gold  \n",
      "3  Bronze  \n",
      "4    Gold  \n"
     ]
    }
   ],
   "source": [
    "def downloadFromURL(url,filename):\n",
    "    import urllib3\n",
    "    import os\n",
    "    http = urllib3.PoolManager()\n",
    "    r = http.request('GET',medals_url)\n",
    "    print(\"El estado de la respuesta es %d \"%(r.status))\n",
    "    response = r.data\n",
    "    #el objeto response contiene un string binario, así que lo convertimos a un string decodificado en utf-8\n",
    "    str_data = response.decode('utf-8')\n",
    "    #dividimos el string en un arran de filas, separádo or intros\n",
    "    lines = str_data.split(\"\\n\")\n",
    "    #La primera linea contiene la cabecera, así que la extraemos\n",
    "    col_names = lines[0].split(\",\")\n",
    "    n_cols = len(col_names)\n",
    "    #generamos un diccionariovacío donde irá la información procesada dede la URL externa\n",
    "    counter = 0 \n",
    "    main_dict = {}\n",
    "    for col in col_names:\n",
    "        main_dict[col] = []\n",
    "    #procesamos fila a fila la información para ir rellenando el diccionario con los datos como hicimos antes\n",
    "    for line in lines:\n",
    "        #nos saltamos la primera linea que es la que contiene la cabecera y ya tenemos procesada\n",
    "        if(counter > 0 ):\n",
    "            #dividimo cada string por las comas como elemento separador\n",
    "            values = line.strip().split(\",\")\n",
    "            #añadimos cada valor a su respectiva columna del diccionario\n",
    "            for i in range(len(col_names)):\n",
    "                main_dict[col_names[i]].append(values[i])\n",
    "        counter += 1\n",
    "    print(\"El data set tiene %d filas y %d columnas\"%(counter, n_cols))\n",
    "\n",
    "    #convertimos el diccionario procesando a Data Frame y comprobamos que los datos son correctos\n",
    "    medals_df = pd.DataFrame(main_dict)\n",
    "    print(medals_df.head())\n",
    "\n",
    "    #Elegimos donde guardarlo (en la carpeta athletes es donde tiene más sentido por el contexto del análisis)\n",
    "    mainpath = \"/Users/Carlos García/Documents/Carlos/Tech Develop CEGP/Machine Learning/datasets\"\n",
    "    #filename = \"athletes/downloaded_medals.\"\n",
    "    fullpath = os.path.join(mainpath,filename)\n",
    "\n",
    "    #lo guardamos en csv, json o en excel segpu queramos\n",
    "    medals_df.to_csv(fullpath+'.csv')\n",
    "    medals_df.to_json(fullpath+'.json')\n",
    "    medals_df.to_excel(fullpath+'.xls')"
   ]
  },
  {
   "cell_type": "code",
   "execution_count": null,
   "metadata": {},
   "outputs": [],
   "source": []
  }
 ],
 "metadata": {
  "kernelspec": {
   "display_name": "Python 3",
   "language": "python",
   "name": "python3"
  },
  "language_info": {
   "codemirror_mode": {
    "name": "ipython",
    "version": 3
   },
   "file_extension": ".py",
   "mimetype": "text/x-python",
   "name": "python",
   "nbconvert_exporter": "python",
   "pygments_lexer": "ipython3",
   "version": "3.8.3"
  }
 },
 "nbformat": 4,
 "nbformat_minor": 4
}
